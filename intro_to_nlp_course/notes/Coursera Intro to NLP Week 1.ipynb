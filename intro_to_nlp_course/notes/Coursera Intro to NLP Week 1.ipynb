{
 "cells": [
  {
   "cell_type": "markdown",
   "metadata": {},
   "source": [
    "# Intro to Natural Language Processing\n",
    "## Coursera Course\n",
    "### Week 1: Introduction, Part 1"
   ]
  },
  {
   "cell_type": "markdown",
   "metadata": {},
   "source": [
    "NLP is the study of computational treatment of natural langauge. Want to both understand, and generate natural language (typically human language).\n",
    "\n",
    "Modern Applications: Search Applications, Question Answering, NL Assistants, Translators, News Digest, Auto news reports.\n",
    "\n",
    "What insights are required to design such systems?\n",
    "\n",
    "NLP draws on computer science, linguistics, maths, stats, AI, pyschology, databases etc.\n",
    "\n",
    "Computers are generally confused by natual language.\n",
    "\n",
    "What we'll cover\n",
    "- NLP is difficult - why\n",
    "- NLP key problems\n",
    "- Methods to address these\n",
    "- Limitations of these methods\n",
    "\n",
    "Speaker --> Listener\n",
    "- Intention (of something to say)\n",
    "- Generation (tactical -- a sentence)\n",
    "- Synthesis (produce --> text or speech)\n",
    "\n",
    "Listener\n",
    "- perception (receive)\n",
    "- interpretation (syntactic, semantic, pragmatic)\n",
    "- incorporation (understanding)\n",
    "\n",
    "Both\n",
    "- Context (common ground)\n",
    "\n",
    "Basic NLP\n",
    "- (U) - understanding\n",
    "- (G) - generation\n",
    "\n",
    "Language --> (U) --> Computer --> (G) --> Language"
   ]
  },
  {
   "cell_type": "markdown",
   "metadata": {},
   "source": [
    "Understanding a news story:\n",
    "- current event\n",
    "- background event\n",
    "- speculation\n",
    "- property\n",
    "- reference to other entities\n",
    "\n",
    "Computer needs to understands the different types of words making up a body of text in order to understand it."
   ]
  },
  {
   "cell_type": "markdown",
   "metadata": {},
   "source": [
    "Recommended Books\n",
    "- Speech and Language Processing\n",
    "- Foundations of Statistical Natural Language Processing\n",
    "- Natural Language Understanding"
   ]
  },
  {
   "cell_type": "markdown",
   "metadata": {},
   "source": [
    "Acronyms\n",
    "- NLP: Natuaral Language Processing\n",
    "- CL: Compuational Linguistics (more mathematicall and theoretical)\n",
    "- IR: Information Retrieval\n",
    "- SP: Speech Processing\n",
    "- HLT: Human Language Technology\n",
    "- NLE: Natural Language Engineering\n",
    "- ML: Machine Learning"
   ]
  },
  {
   "cell_type": "markdown",
   "metadata": {},
   "source": [
    "Journals: Computaional Linguistics, TACL, NLE, IR, IPM, ACM, TALIP, ACM TSLP"
   ]
  },
  {
   "cell_type": "markdown",
   "metadata": {},
   "source": [
    "## Why is NLP Hard?"
   ]
  },
  {
   "cell_type": "markdown",
   "metadata": {},
   "source": [
    "Consider:\n",
    "    Time flies like an arrow.\n",
    "    \n",
    "How many different interpretations are there to this sentence?\n",
    "\n",
    "Flies - could be a verb or a noun\n",
    "Time - a verb or a noun?\n",
    "\n",
    "What can we assocaite with the different parts of speech.\n",
    "\n",
    "What if words have different meaning? i.e. Pen - could be a writing instrument, or a place for animals\n",
    "\n",
    "Sometimes we use common sense to get the intended meaning from human languge - a computer can't inherently do this.\n",
    "\n",
    "### Syntax vs Semantics\n",
    "\n",
    "Syntax = structure (grammer, rules of langugage)\n",
    "Semantics = meaning (does it make sense)\n",
    "\n",
    "### Ambiguous Words\n",
    "- ball\n",
    "- board\n",
    "- plant\n",
    "- fly\n",
    "- rent\n",
    "- tape\n",
    "\n",
    "- pronounication of words to give different meaning\n",
    "    - address\n",
    "    - transport\n",
    "    \n",
    "- Noun-noun phrases (XY)Z vs X(YZ)\n",
    "\n",
    "### Types of Ambiguity\n",
    "- Morphological\n",
    "    - impossible (im negates), but not in important (portant isn't a word)\n",
    "- Phonetic\n",
    "    - number, numb(er)\n",
    "- Part of speech\n",
    "- Syntactic (call Joe a taxi)\n",
    "- Pp attachement\n",
    "- Sense\n",
    "    - different senses of a word or phrase\n",
    "- Modality\n",
    "    - gives the sense of alternatives\n",
    "- Subjectivity\n",
    "    - believes\n",
    "- Coordinating Conjuction attachment\n",
    "    - ripe apples and pairs (what is ripe?)\n",
    "- Negation\n",
    "    - I like it with no cheese and tomates (what is negated)\n",
    "- Referential\n",
    "- Reflexive\n",
    "- Ellipsis and parallelism\n",
    "    - Joe gave Mike a beer and Jeremy a glass of wine (gave is inferred in the second case, parallel action)\n",
    "- Metonymy\n",
    "    - New York called and left a message (New York refers to an office in NY, and not the city)"
   ]
  },
  {
   "cell_type": "markdown",
   "metadata": {},
   "source": [
    "### Other sources of difficulties\n",
    "- non standard, slang and novel words\n",
    "- phone numbers, airplane models\n",
    "- spam or friend as verbs\n",
    "- newly added words to the dictonary\n",
    "- inconsistencies\n",
    "    - junior college, college junior\n",
    "    - pet spray, pet llama\n",
    "- Typo and gramattical error\n",
    "- Parsing problems\n",
    "- Complex senteces\n",
    "- Counterfactual sentences\n",
    "- Humour/ Sarcasm\n",
    "- Implicature/inference/ world knowledge (implied knowledge)\n",
    "- Sematics and pragmatics (how words and sentences are used in a given context)\n",
    "    - do you know the time? (possible answer is yes -- but not what is expected)\n",
    "- Language is hard even for humans\n",
    "- Synonyms and Paraphrases"
   ]
  },
  {
   "cell_type": "markdown",
   "metadata": {},
   "source": [
    "## Background Required for NLP"
   ]
  },
  {
   "cell_type": "code",
   "execution_count": null,
   "metadata": {
    "collapsed": true
   },
   "outputs": [],
   "source": []
  }
 ],
 "metadata": {
  "kernelspec": {
   "display_name": "NLTK",
   "language": "python",
   "name": "nltk"
  },
  "language_info": {
   "codemirror_mode": {
    "name": "ipython",
    "version": 2
   },
   "file_extension": ".py",
   "mimetype": "text/x-python",
   "name": "python",
   "nbconvert_exporter": "python",
   "pygments_lexer": "ipython2",
   "version": "2.7.12"
  }
 },
 "nbformat": 4,
 "nbformat_minor": 1
}
